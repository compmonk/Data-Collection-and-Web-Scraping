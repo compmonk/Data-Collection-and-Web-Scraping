{
 "cells": [
  {
   "cell_type": "markdown",
   "id": "4728c55a",
   "metadata": {},
   "source": [
    "# Scraping A Webpage"
   ]
  },
  {
   "cell_type": "markdown",
   "id": "5f8b9b5c",
   "metadata": {},
   "source": [
    "### BeautifulSoup to Parse the HTML"
   ]
  },
  {
   "cell_type": "code",
   "execution_count": null,
   "id": "1fcdc996",
   "metadata": {},
   "outputs": [],
   "source": [
    "from bs4 import BeautifulSoup"
   ]
  },
  {
   "cell_type": "code",
   "execution_count": null,
   "id": "0e388422",
   "metadata": {},
   "outputs": [],
   "source": [
    "html = \"\"\"\n",
    "<!DOCTYPE html>\n",
    "<html lang=\"en\">\n",
    "\n",
    "<head>\n",
    "    <meta charset=\"UTF-8\">\n",
    "    <title>My First HTML</title>\n",
    "\n",
    "    <style>\n",
    "        .first-half {\n",
    "            color: red;\n",
    "        }\n",
    "\n",
    "        .second-half {\n",
    "            color: blue;\n",
    "        }\n",
    "\n",
    "        #the-third {\n",
    "            font-size: 50px;\n",
    "        }\n",
    "\n",
    "    </style>\n",
    "\n",
    "</head>\n",
    "\n",
    "<body>\n",
    "\n",
    "<h1>This is an H1</h1>\n",
    "\n",
    "<div>\n",
    "    <p class=\"first-half\">I'm first!</p>\n",
    "    <p class=\"first-half\">I'm second!</p>\n",
    "</div>\n",
    "\n",
    "<div>\n",
    "    <p class=\"second-half\" id=\"the-third\">I'm third!</p>\n",
    "    <p class=\"second-half\">I'm fourth!</p>\n",
    "</div>\n",
    "\n",
    "<div>\n",
    "    <p>I'm fifth!</p>\n",
    "    <p>I'm sixth!</p>\n",
    "</div>\n",
    "</body>\n",
    "\n",
    "</html>\n",
    "\"\"\""
   ]
  },
  {
   "cell_type": "markdown",
   "id": "4c8f2dd4",
   "metadata": {},
   "source": [
    "#### Soup Object"
   ]
  },
  {
   "cell_type": "code",
   "execution_count": null,
   "id": "b28604b7",
   "metadata": {},
   "outputs": [],
   "source": [
    "# Create the soup object"
   ]
  },
  {
   "cell_type": "markdown",
   "id": "0b8e6ef8",
   "metadata": {},
   "source": [
    "#### Title Tag"
   ]
  },
  {
   "cell_type": "code",
   "execution_count": null,
   "id": "cfc85029",
   "metadata": {},
   "outputs": [],
   "source": [
    "# Get the title tag\n"
   ]
  },
  {
   "cell_type": "code",
   "execution_count": null,
   "id": "1cdfca1a",
   "metadata": {},
   "outputs": [],
   "source": [
    "# Type of title tag\n"
   ]
  },
  {
   "cell_type": "markdown",
   "id": "0e114bcd",
   "metadata": {},
   "source": [
    "#### Title Tag Text"
   ]
  },
  {
   "cell_type": "code",
   "execution_count": null,
   "id": "c5eec9e7",
   "metadata": {},
   "outputs": [],
   "source": [
    "# Get the title text\n"
   ]
  },
  {
   "cell_type": "code",
   "execution_count": null,
   "id": "4be613f4",
   "metadata": {},
   "outputs": [],
   "source": [
    "# Type of title_text\n"
   ]
  },
  {
   "cell_type": "markdown",
   "id": "a362f256",
   "metadata": {},
   "source": [
    "#### H1 Tag - Method 1"
   ]
  },
  {
   "cell_type": "code",
   "execution_count": null,
   "id": "5d53ce85",
   "metadata": {},
   "outputs": [],
   "source": [
    "# Get the H1 Tag\n"
   ]
  },
  {
   "cell_type": "code",
   "execution_count": null,
   "id": "eb94042f",
   "metadata": {},
   "outputs": [],
   "source": [
    "# H1 text\n"
   ]
  },
  {
   "cell_type": "markdown",
   "id": "f63f0524",
   "metadata": {},
   "source": [
    "#### H1 Tag - Method 2"
   ]
  },
  {
   "cell_type": "code",
   "execution_count": null,
   "id": "a29912fd",
   "metadata": {},
   "outputs": [],
   "source": [
    "# Get the H1 Tag\n"
   ]
  },
  {
   "cell_type": "code",
   "execution_count": null,
   "id": "117c0eb8",
   "metadata": {},
   "outputs": [],
   "source": [
    "# H1 text\n"
   ]
  },
  {
   "cell_type": "markdown",
   "id": "388c8734",
   "metadata": {},
   "source": [
    "#### Non Existent Element"
   ]
  },
  {
   "cell_type": "code",
   "execution_count": null,
   "id": "8803c20f",
   "metadata": {},
   "outputs": [],
   "source": [
    "# Get the H2 Tag\n"
   ]
  },
  {
   "cell_type": "code",
   "execution_count": null,
   "id": "fd12060e",
   "metadata": {},
   "outputs": [],
   "source": [
    "# H2 is None\n"
   ]
  },
  {
   "cell_type": "code",
   "execution_count": null,
   "id": "3bf94e81",
   "metadata": {},
   "outputs": [],
   "source": [
    "# H2 Text\n"
   ]
  },
  {
   "cell_type": "markdown",
   "id": "7d0fafe8",
   "metadata": {},
   "source": [
    "#### Finding by id"
   ]
  },
  {
   "cell_type": "code",
   "execution_count": null,
   "id": "1d569b5f",
   "metadata": {},
   "outputs": [],
   "source": [
    "# Find by id=\"the-third\"\n"
   ]
  },
  {
   "cell_type": "markdown",
   "id": "7d0cc5bf",
   "metadata": {},
   "source": [
    "#### Finding by class"
   ]
  },
  {
   "cell_type": "code",
   "execution_count": null,
   "id": "b6159561",
   "metadata": {},
   "outputs": [],
   "source": [
    "# Find by class=\"first-half\"\n"
   ]
  },
  {
   "cell_type": "code",
   "execution_count": null,
   "id": "54d693ac",
   "metadata": {},
   "outputs": [],
   "source": [
    "# Find all by class=\"second-half\"\n"
   ]
  },
  {
   "cell_type": "code",
   "execution_count": null,
   "id": "d243ff7b",
   "metadata": {},
   "outputs": [],
   "source": [
    "# Find all by class\"second-half\"\n"
   ]
  }
 ],
 "metadata": {
  "kernelspec": {
   "display_name": "PythonData",
   "language": "python",
   "name": "pythondata"
  },
  "language_info": {
   "codemirror_mode": {
    "name": "ipython",
    "version": 3
   },
   "file_extension": ".py",
   "mimetype": "text/x-python",
   "name": "python",
   "nbconvert_exporter": "python",
   "pygments_lexer": "ipython3",
   "version": "3.7.13"
  }
 },
 "nbformat": 4,
 "nbformat_minor": 5
}
